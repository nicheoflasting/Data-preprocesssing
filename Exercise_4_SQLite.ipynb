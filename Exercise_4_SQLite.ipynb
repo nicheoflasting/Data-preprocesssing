{
 "cells": [
  {
   "cell_type": "markdown",
   "metadata": {},
   "source": [
    "## Exercise 4 - SQLite"
   ]
  },
  {
   "cell_type": "markdown",
   "metadata": {},
   "source": [
    "1 Add the necessary libraries for SQLite3 and make a database named `test.db`."
   ]
  },
  {
   "cell_type": "code",
   "execution_count": 2,
   "metadata": {},
   "outputs": [],
   "source": [
    "import sqlite3\n",
    "database_connection = sqlite3.connect(\"test.db\")\n"
   ]
  },
  {
   "cell_type": "markdown",
   "metadata": {},
   "source": [
    "2 Create a connection to the database."
   ]
  },
  {
   "cell_type": "code",
   "execution_count": 3,
   "metadata": {},
   "outputs": [],
   "source": [
    "con = database_connection.cursor()"
   ]
  },
  {
   "cell_type": "markdown",
   "metadata": {},
   "source": [
    "3 Make the following table in the database, named `people`:\n",
    "    \n",
    "| name | age | shoe_size |\n",
    "| ------------- |-------------| -----|\n",
    "| Prank | 88 | 47 |\n",
    "| Matt | 34 | 39 |\n",
    "| Ilona | 41 | 36 |\n",
    "| Sonja | 32 | 37 |\n",
    "\n"
   ]
  },
  {
   "cell_type": "code",
   "execution_count": 3,
   "metadata": {},
   "outputs": [],
   "source": [
    "con.execute(\"CREATE TABLE IF NOT EXISTS people (name, age, shoe_size)\")\n",
    "con.execute('''\n",
    "    INSERT INTO people VALUES\n",
    "            (\"Prank\", 88, 47),\n",
    "            (\"Matt\", 34, 39),\n",
    "            (\"Ilona\", 41, 36),\n",
    "            (\"Sonja\", 32, 37)\n",
    "''')\n",
    "database_connection.commit()\n"
   ]
  },
  {
   "cell_type": "markdown",
   "metadata": {},
   "source": [
    "4 When the Table has been created, convert the table to the Pandas DataFrame object and add the column `hat_size' to it, then fill that column with the values ​​you choose."
   ]
  },
  {
   "cell_type": "code",
   "execution_count": null,
   "metadata": {},
   "outputs": [],
   "source": [
    "import pandas as pd\n",
    "sql_query = '''SELECT * FROM people'''\n",
    "sql_dataframe = pd.read_sql(sql_query, database_connection)\n",
    "new_column = \"ALTER TABLE people ADD COLUMN hat_size\"\n",
    "con.execute(new_column)\n",
    "con.execute('''UPDATE people SET hat_size = 25 WHERE age = 88;''')\n",
    "con.execute('''UPDATE people SET hat_size = 22 WHERE age = 34;''')\n",
    "con.execute('''UPDATE people SET hat_size = 27 WHERE age = 41;''')\n",
    "con.execute('''UPDATE people SET hat_size = 30 WHERE age = 32;''')\n",
    "database_connection.commit()"
   ]
  },
  {
   "cell_type": "markdown",
   "metadata": {},
   "source": [
    "5 Make a copy of the DataFrame object with the name `person_table_copy` and add a row to it with the values ​you choose. Now save this modified dataframe object in the database as `person_table_copy` (will be created next to the previous table)."
   ]
  },
  {
   "cell_type": "code",
   "execution_count": null,
   "metadata": {},
   "outputs": [
    {
     "data": {
      "text/plain": [
       "<sqlite3.Cursor at 0x1c12c4b2740>"
      ]
     },
     "execution_count": 16,
     "metadata": {},
     "output_type": "execute_result"
    }
   ],
   "source": [
    "personal_table_copy = sql_dataframe.copy()\n",
    "personal_table_copy.to_sql(\"person_table_copy\", database_connection, if_exists='replace', index=False)\n",
    "con.execute('''\n",
    "    INSERT INTO person_table_copy (name, age, shoe_size, hat_size) \n",
    "    VALUES (\"John\", 25, 42, 24)\n",
    "''')\n"
   ]
  },
  {
   "cell_type": "markdown",
   "metadata": {},
   "source": [
    "6 Finally, save the database changes and close the connection."
   ]
  },
  {
   "cell_type": "code",
   "execution_count": 22,
   "metadata": {},
   "outputs": [
    {
     "name": "stdout",
     "output_type": "stream",
     "text": [
      "    name  age  shoe_size  hat_size\n",
      "0  Prank   88         47        25\n",
      "1   Matt   34         39        22\n",
      "2  Ilona   41         36        27\n",
      "3  Sonja   32         37        30\n",
      "    name  age  shoe_size  hat_size\n",
      "0  Prank   88         47        25\n",
      "1   Matt   34         39        22\n",
      "2  Ilona   41         36        27\n",
      "3  Sonja   32         37        30\n",
      "4   John   25         42        24\n"
     ]
    },
    {
     "data": {
      "text/plain": [
       "<function Connection.close()>"
      ]
     },
     "execution_count": 22,
     "metadata": {},
     "output_type": "execute_result"
    }
   ],
   "source": [
    "import pandas as pd\n",
    "sql_query_copy = '''SELECT * FROM person_table_copy'''\n",
    "sql_dataframe_copy = pd.read_sql(sql_query_copy, database_connection)\n",
    "print(sql_dataframe)\n",
    "print(sql_dataframe_copy)\n",
    "database_connection.commit\n",
    "database_connection.close"
   ]
  }
 ],
 "metadata": {
  "kernelspec": {
   "display_name": "base",
   "language": "python",
   "name": "python3"
  },
  "language_info": {
   "codemirror_mode": {
    "name": "ipython",
    "version": 3
   },
   "file_extension": ".py",
   "mimetype": "text/x-python",
   "name": "python",
   "nbconvert_exporter": "python",
   "pygments_lexer": "ipython3",
   "version": "3.12.7"
  }
 },
 "nbformat": 4,
 "nbformat_minor": 2
}
