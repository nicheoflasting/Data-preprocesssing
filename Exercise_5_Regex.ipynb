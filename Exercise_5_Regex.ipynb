{
 "cells": [
  {
   "cell_type": "markdown",
   "metadata": {},
   "source": [
    "## Exercise 5 - Regex"
   ]
  },
  {
   "cell_type": "markdown",
   "metadata": {},
   "source": [
    "In the regex task section, syntax used for the example text was retrieved from here: https://loremipsum.io/."
   ]
  },
  {
   "cell_type": "code",
   "execution_count": 24,
   "metadata": {},
   "outputs": [],
   "source": [
    "example_text = \"Lorem ipsum dolorolo at sit amet, consectetur ipsumm adipiscing elit, sed do eiusmod tempor incididunt ut labore et dolore magna aliqua. Ut enim ad minim veniam, quis nostrud exercitation ullamco (laboris) nisi ut (aliquip) ex ea commodo consequat. [192.168.1.1:8080] Duis aute irure dolor in reprehenderit in voluptate velit esse cillum dolore eu fugiat nulla pariatur. Excepteur sint occaecat cupidatat non proident, sunt in culpa qui officia deserunt mollit anim id est laborum. [192.168.1.254:80]\""
   ]
  },
  {
   "cell_type": "markdown",
   "metadata": {},
   "source": [
    "1 Add the necessary libraries."
   ]
  },
  {
   "cell_type": "code",
   "execution_count": 25,
   "metadata": {},
   "outputs": [],
   "source": [
    "import re"
   ]
  },
  {
   "cell_type": "markdown",
   "metadata": {},
   "source": [
    "2 Find how many times the word `ipsum` appears in the text."
   ]
  },
  {
   "cell_type": "code",
   "execution_count": 26,
   "metadata": {},
   "outputs": [
    {
     "name": "stdout",
     "output_type": "stream",
     "text": [
      "1\n"
     ]
    }
   ],
   "source": [
    "def findingword(example_text, word):\n",
    "    wordPattern = \"\\\\b\" + word + \"\\\\b\"\n",
    "    count = 0\n",
    "    for i in re.finditer(wordPattern, example_text):\n",
    "        count = count + 1\n",
    "    print(count)\n",
    "\n",
    "word = \"ipsum\"\n",
    "example_text = \"Lorem ipsum dolorolo at sit amet, consectetur ipsumm adipiscing elit, sed do eiusmod tempor incididunt ut labore et dolore magna aliqua. Ut enim ad minim veniam, quis nostrud exercitation ullamco (laboris) nisi ut (aliquip) ex ea commodo consequat. [192.168.1.1:8080] Duis aute irure dolor in reprehenderit in voluptate velit esse cillum dolore eu fugiat nulla pariatur. Excepteur sint occaecat cupidatat non proident, sunt in culpa qui officia deserunt mollit anim id est laborum. [192.168.1.254:80]\"\n",
    "findingword(example_text, word)\n"
   ]
  },
  {
   "cell_type": "markdown",
   "metadata": {},
   "source": [
    "3 Find in the text how many times the string `ipsum` (not the word!) appears."
   ]
  },
  {
   "cell_type": "code",
   "execution_count": 27,
   "metadata": {},
   "outputs": [
    {
     "name": "stdout",
     "output_type": "stream",
     "text": [
      "2\n"
     ]
    }
   ],
   "source": [
    "def findingword(example_text, word):\n",
    "    return len(re.findall(word, example_text))\n",
    "\n",
    "word = \"ipsum\"\n",
    "example_text = \"Lorem ipsum dolorolo at sit amet, consectetur ipsumm adipiscing elit, sed do eiusmod tempor incididunt ut labore et dolore magna aliqua. Ut enim ad minim veniam, quis nostrud exercitation ullamco (laboris) nisi ut (aliquip) ex ea commodo consequat. [192.168.1.1:8080] Duis aute irure dolor in reprehenderit in voluptate velit esse cillum dolore eu fugiat nulla pariatur. Excepteur sint occaecat cupidatat non proident, sunt in culpa qui officia deserunt mollit anim id est laborum. [192.168.1.254:80]\"\n",
    "count = findingword(example_text, word)\n",
    "print(count)"
   ]
  },
  {
   "cell_type": "markdown",
   "metadata": {},
   "source": [
    "4 Search the text for everything after the word `Excepteur` (Note: the word Excepteur should not be included in the output!)"
   ]
  },
  {
   "cell_type": "code",
   "execution_count": 28,
   "metadata": {},
   "outputs": [
    {
     "name": "stdout",
     "output_type": "stream",
     "text": [
      " sint occaecat cupidatat non proident, sunt in culpa qui officia deserunt mollit anim id est laborum. [192.168.1.254:80]\n"
     ]
    }
   ],
   "source": [
    "example_text = \"Lorem ipsum dolorolo at sit amet, consectetur ipsumm adipiscing elit, sed do eiusmod tempor incididunt ut labore et dolore magna aliqua. Ut enim ad minim veniam, quis nostrud exercitation ullamco (laboris) nisi ut (aliquip) ex ea commodo consequat. [192.168.1.1:8080] Duis aute irure dolor in reprehenderit in voluptate velit esse cillum dolore eu fugiat nulla pariatur. Excepteur sint occaecat cupidatat non proident, sunt in culpa qui officia deserunt mollit anim id est laborum. [192.168.1.254:80]\"\n",
    "patternSearch = r\"(?<=Excepteur)(.*)\"\n",
    "match = re.search(patternSearch, example_text)\n",
    "if match:\n",
    "    print(match.group(1))\n"
   ]
  },
  {
   "cell_type": "markdown",
   "metadata": {},
   "source": [
    "5 Find all the words inside the brackets `()`."
   ]
  },
  {
   "cell_type": "code",
   "execution_count": 29,
   "metadata": {},
   "outputs": [
    {
     "name": "stdout",
     "output_type": "stream",
     "text": [
      "['laboris', 'aliquip']\n"
     ]
    }
   ],
   "source": [
    "example_text = \"Lorem ipsum dolorolo at sit amet, consectetur ipsumm adipiscing elit, sed do eiusmod tempor incididunt ut labore et dolore magna aliqua. Ut enim ad minim veniam, quis nostrud exercitation ullamco (laboris) nisi ut (aliquip) ex ea commodo consequat. [192.168.1.1:8080] Duis aute irure dolor in reprehenderit in voluptate velit esse cillum dolore eu fugiat nulla pariatur. Excepteur sint occaecat cupidatat non proident, sunt in culpa qui officia deserunt mollit anim id est laborum. [192.168.1.254:80]\"\n",
    "patternSearch = r\"\\((.*?)\\)\"\n",
    "match = re.findall(patternSearch, example_text)\n",
    "print(match)"
   ]
  },
  {
   "cell_type": "markdown",
   "metadata": {},
   "source": [
    "6 Choose all the words that end with `at` (include the word 'at' also!)."
   ]
  },
  {
   "cell_type": "code",
   "execution_count": 30,
   "metadata": {},
   "outputs": [
    {
     "name": "stdout",
     "output_type": "stream",
     "text": [
      "['at', 'consequat', 'fugiat', 'occaecat', 'cupidatat']\n"
     ]
    }
   ],
   "source": [
    "example_text = \"Lorem ipsum dolorolo at sit amet, consectetur ipsumm adipiscing elit, sed do eiusmod tempor incididunt ut labore et dolore magna aliqua. Ut enim ad minim veniam, quis nostrud exercitation ullamco (laboris) nisi ut (aliquip) ex ea commodo consequat. [192.168.1.1:8080] Duis aute irure dolor in reprehenderit in voluptate velit esse cillum dolore eu fugiat nulla pariatur. Excepteur sint occaecat cupidatat non proident, sunt in culpa qui officia deserunt mollit anim id est laborum. [192.168.1.254:80]\"\n",
    "patternSearch = r\"\\w*at\\b\"\n",
    "match = re.findall(patternSearch, example_text)\n",
    "\n",
    "print(match)"
   ]
  },
  {
   "cell_type": "markdown",
   "metadata": {},
   "source": [
    "7 Find words that contain the string `olo` but do not start or end with that string."
   ]
  },
  {
   "cell_type": "code",
   "execution_count": 45,
   "metadata": {},
   "outputs": [
    {
     "data": {
      "text/plain": [
       "['dolore', 'dolor', 'dolore']"
      ]
     },
     "execution_count": 45,
     "metadata": {},
     "output_type": "execute_result"
    }
   ],
   "source": [
    "example_text = \"Lorem ipsum dolorolo at sit amet, consectetur ipsumm adipiscing elit, sed do eiusmod tempor incididunt ut labore et dolore magna aliqua. Ut enim ad minim veniam, quis nostrud exercitation ullamco (laboris) nisi ut (aliquip) ex ea commodo consequat. [192.168.1.1:8080] Duis aute irure dolor in reprehenderit in voluptate velit esse cillum dolore eu fugiat nulla pariatur. Excepteur sint occaecat cupidatat non proident, sunt in culpa qui officia deserunt mollit anim id est laborum. [192.168.1.254:80]\"\n",
    "re_pattern = r\"\\w+olo\\w+\"\n",
    "matches = re.findall(re_pattern, example_text)\n",
    "re_pattern = re.compile(r'(?!(^olo.*))(?!(.*olo$))')\n",
    "words = list(filter(re_pattern.match, matches))\n",
    "words"
   ]
  },
  {
   "cell_type": "markdown",
   "metadata": {},
   "source": [
    "8 Next find all IP addresses with the following form: `ip-address:port-number` (eg 192.168.1.1:8080) without static search or `r'\\[.*?\\]'`/similar syntax which returns all the content inside the square brackets."
   ]
  },
  {
   "cell_type": "code",
   "execution_count": 46,
   "metadata": {},
   "outputs": [
    {
     "name": "stdout",
     "output_type": "stream",
     "text": [
      "['192.168.1.1:8080', '192.168.1.254:80']\n"
     ]
    }
   ],
   "source": [
    "def find_ip_with_port(text):\n",
    "    pattern = r'\\b(?:\\d{1,3}\\.){3}\\d{1,3}:\\d{1,5}\\b'\n",
    "    return re.findall(pattern, text)\n",
    "\n",
    "example_text = \"Lorem ipsum dolorolo at sit amet, consectetur ipsumm adipiscing elit, sed do eiusmod tempor incididunt ut labore et dolore magna aliqua. Ut enim ad minim veniam, quis nostrud exercitation ullamco (laboris) nisi ut (aliquip) ex ea commodo consequat. [192.168.1.1:8080] Duis aute irure dolor in reprehenderit in voluptate velit esse cillum dolore eu fugiat nulla pariatur. Excepteur sint occaecat cupidatat non proident, sunt in culpa qui officia deserunt mollit anim id est laborum. [192.168.1.254:80]\"\n",
    "\n",
    "result = find_ip_with_port(example_text)\n",
    "print(result)"
   ]
  }
 ],
 "metadata": {
  "kernelspec": {
   "display_name": "base",
   "language": "python",
   "name": "python3"
  },
  "language_info": {
   "codemirror_mode": {
    "name": "ipython",
    "version": 3
   },
   "file_extension": ".py",
   "mimetype": "text/x-python",
   "name": "python",
   "nbconvert_exporter": "python",
   "pygments_lexer": "ipython3",
   "version": "3.12.7"
  }
 },
 "nbformat": 4,
 "nbformat_minor": 2
}
